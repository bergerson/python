{
 "cells": [
  {
   "cell_type": "code",
   "execution_count": 137,
   "id": "68065604",
   "metadata": {},
   "outputs": [
    {
     "data": {
      "application/vnd.plotly.v1+json": {
       "config": {
        "plotlyServerURL": "https://plot.ly"
       },
       "data": [
        {
         "hovertemplate": "variable=freq<br>index=%{x}<br>value=%{y}<extra></extra>",
         "legendgroup": "freq",
         "marker": {
          "color": "#636efa",
          "symbol": "circle"
         },
         "mode": "markers",
         "name": "freq",
         "orientation": "v",
         "showlegend": true,
         "type": "scatter",
         "x": [
          0,
          1,
          2,
          3,
          4,
          5,
          6,
          7,
          8,
          9,
          10,
          11,
          12,
          13,
          14,
          15,
          16,
          17,
          18,
          19,
          20,
          21,
          22,
          23,
          24,
          25,
          26,
          27,
          28,
          29,
          30,
          31,
          32,
          33,
          34
         ],
         "xaxis": "x",
         "y": [
          1.3589911753554205,
          1.6193503620032896,
          1.851514710988198,
          3.5374048898762225,
          16.39231750389664,
          17.144072432672047,
          17.589067527671375,
          18.137497398555762,
          18.43716824457367,
          18.867985364065454,
          19.859476969652214,
          20.852579708821235,
          40.68273404731951,
          41.46606719427463,
          42.05767544511486,
          51.91781295925266,
          52.94346059675158,
          62.333147105299574,
          62.600273052986466,
          131.29933116255458,
          145.70608764154275,
          151.93795233184994,
          178.51521187975752,
          184.74063203574173,
          192.90907929009984,
          199.1602775833759,
          225.70853672683015,
          231.94040141713722,
          240.12818227446428,
          246.343935628964,
          272.91797290971016,
          10.425645400978269,
          9.888010125083834,
          2.8660455267812313,
          3.2591621204821624
         ],
         "yaxis": "y"
        }
       ],
       "layout": {
        "legend": {
         "title": {
          "text": "variable"
         },
         "tracegroupgap": 0
        },
        "margin": {
         "t": 60
        },
        "template": {
         "data": {
          "bar": [
           {
            "error_x": {
             "color": "#2a3f5f"
            },
            "error_y": {
             "color": "#2a3f5f"
            },
            "marker": {
             "line": {
              "color": "#E5ECF6",
              "width": 0.5
             },
             "pattern": {
              "fillmode": "overlay",
              "size": 10,
              "solidity": 0.2
             }
            },
            "type": "bar"
           }
          ],
          "barpolar": [
           {
            "marker": {
             "line": {
              "color": "#E5ECF6",
              "width": 0.5
             },
             "pattern": {
              "fillmode": "overlay",
              "size": 10,
              "solidity": 0.2
             }
            },
            "type": "barpolar"
           }
          ],
          "carpet": [
           {
            "aaxis": {
             "endlinecolor": "#2a3f5f",
             "gridcolor": "white",
             "linecolor": "white",
             "minorgridcolor": "white",
             "startlinecolor": "#2a3f5f"
            },
            "baxis": {
             "endlinecolor": "#2a3f5f",
             "gridcolor": "white",
             "linecolor": "white",
             "minorgridcolor": "white",
             "startlinecolor": "#2a3f5f"
            },
            "type": "carpet"
           }
          ],
          "choropleth": [
           {
            "colorbar": {
             "outlinewidth": 0,
             "ticks": ""
            },
            "type": "choropleth"
           }
          ],
          "contour": [
           {
            "colorbar": {
             "outlinewidth": 0,
             "ticks": ""
            },
            "colorscale": [
             [
              0,
              "#0d0887"
             ],
             [
              0.1111111111111111,
              "#46039f"
             ],
             [
              0.2222222222222222,
              "#7201a8"
             ],
             [
              0.3333333333333333,
              "#9c179e"
             ],
             [
              0.4444444444444444,
              "#bd3786"
             ],
             [
              0.5555555555555556,
              "#d8576b"
             ],
             [
              0.6666666666666666,
              "#ed7953"
             ],
             [
              0.7777777777777778,
              "#fb9f3a"
             ],
             [
              0.8888888888888888,
              "#fdca26"
             ],
             [
              1,
              "#f0f921"
             ]
            ],
            "type": "contour"
           }
          ],
          "contourcarpet": [
           {
            "colorbar": {
             "outlinewidth": 0,
             "ticks": ""
            },
            "type": "contourcarpet"
           }
          ],
          "heatmap": [
           {
            "colorbar": {
             "outlinewidth": 0,
             "ticks": ""
            },
            "colorscale": [
             [
              0,
              "#0d0887"
             ],
             [
              0.1111111111111111,
              "#46039f"
             ],
             [
              0.2222222222222222,
              "#7201a8"
             ],
             [
              0.3333333333333333,
              "#9c179e"
             ],
             [
              0.4444444444444444,
              "#bd3786"
             ],
             [
              0.5555555555555556,
              "#d8576b"
             ],
             [
              0.6666666666666666,
              "#ed7953"
             ],
             [
              0.7777777777777778,
              "#fb9f3a"
             ],
             [
              0.8888888888888888,
              "#fdca26"
             ],
             [
              1,
              "#f0f921"
             ]
            ],
            "type": "heatmap"
           }
          ],
          "heatmapgl": [
           {
            "colorbar": {
             "outlinewidth": 0,
             "ticks": ""
            },
            "colorscale": [
             [
              0,
              "#0d0887"
             ],
             [
              0.1111111111111111,
              "#46039f"
             ],
             [
              0.2222222222222222,
              "#7201a8"
             ],
             [
              0.3333333333333333,
              "#9c179e"
             ],
             [
              0.4444444444444444,
              "#bd3786"
             ],
             [
              0.5555555555555556,
              "#d8576b"
             ],
             [
              0.6666666666666666,
              "#ed7953"
             ],
             [
              0.7777777777777778,
              "#fb9f3a"
             ],
             [
              0.8888888888888888,
              "#fdca26"
             ],
             [
              1,
              "#f0f921"
             ]
            ],
            "type": "heatmapgl"
           }
          ],
          "histogram": [
           {
            "marker": {
             "pattern": {
              "fillmode": "overlay",
              "size": 10,
              "solidity": 0.2
             }
            },
            "type": "histogram"
           }
          ],
          "histogram2d": [
           {
            "colorbar": {
             "outlinewidth": 0,
             "ticks": ""
            },
            "colorscale": [
             [
              0,
              "#0d0887"
             ],
             [
              0.1111111111111111,
              "#46039f"
             ],
             [
              0.2222222222222222,
              "#7201a8"
             ],
             [
              0.3333333333333333,
              "#9c179e"
             ],
             [
              0.4444444444444444,
              "#bd3786"
             ],
             [
              0.5555555555555556,
              "#d8576b"
             ],
             [
              0.6666666666666666,
              "#ed7953"
             ],
             [
              0.7777777777777778,
              "#fb9f3a"
             ],
             [
              0.8888888888888888,
              "#fdca26"
             ],
             [
              1,
              "#f0f921"
             ]
            ],
            "type": "histogram2d"
           }
          ],
          "histogram2dcontour": [
           {
            "colorbar": {
             "outlinewidth": 0,
             "ticks": ""
            },
            "colorscale": [
             [
              0,
              "#0d0887"
             ],
             [
              0.1111111111111111,
              "#46039f"
             ],
             [
              0.2222222222222222,
              "#7201a8"
             ],
             [
              0.3333333333333333,
              "#9c179e"
             ],
             [
              0.4444444444444444,
              "#bd3786"
             ],
             [
              0.5555555555555556,
              "#d8576b"
             ],
             [
              0.6666666666666666,
              "#ed7953"
             ],
             [
              0.7777777777777778,
              "#fb9f3a"
             ],
             [
              0.8888888888888888,
              "#fdca26"
             ],
             [
              1,
              "#f0f921"
             ]
            ],
            "type": "histogram2dcontour"
           }
          ],
          "mesh3d": [
           {
            "colorbar": {
             "outlinewidth": 0,
             "ticks": ""
            },
            "type": "mesh3d"
           }
          ],
          "parcoords": [
           {
            "line": {
             "colorbar": {
              "outlinewidth": 0,
              "ticks": ""
             }
            },
            "type": "parcoords"
           }
          ],
          "pie": [
           {
            "automargin": true,
            "type": "pie"
           }
          ],
          "scatter": [
           {
            "marker": {
             "colorbar": {
              "outlinewidth": 0,
              "ticks": ""
             }
            },
            "type": "scatter"
           }
          ],
          "scatter3d": [
           {
            "line": {
             "colorbar": {
              "outlinewidth": 0,
              "ticks": ""
             }
            },
            "marker": {
             "colorbar": {
              "outlinewidth": 0,
              "ticks": ""
             }
            },
            "type": "scatter3d"
           }
          ],
          "scattercarpet": [
           {
            "marker": {
             "colorbar": {
              "outlinewidth": 0,
              "ticks": ""
             }
            },
            "type": "scattercarpet"
           }
          ],
          "scattergeo": [
           {
            "marker": {
             "colorbar": {
              "outlinewidth": 0,
              "ticks": ""
             }
            },
            "type": "scattergeo"
           }
          ],
          "scattergl": [
           {
            "marker": {
             "colorbar": {
              "outlinewidth": 0,
              "ticks": ""
             }
            },
            "type": "scattergl"
           }
          ],
          "scattermapbox": [
           {
            "marker": {
             "colorbar": {
              "outlinewidth": 0,
              "ticks": ""
             }
            },
            "type": "scattermapbox"
           }
          ],
          "scatterpolar": [
           {
            "marker": {
             "colorbar": {
              "outlinewidth": 0,
              "ticks": ""
             }
            },
            "type": "scatterpolar"
           }
          ],
          "scatterpolargl": [
           {
            "marker": {
             "colorbar": {
              "outlinewidth": 0,
              "ticks": ""
             }
            },
            "type": "scatterpolargl"
           }
          ],
          "scatterternary": [
           {
            "marker": {
             "colorbar": {
              "outlinewidth": 0,
              "ticks": ""
             }
            },
            "type": "scatterternary"
           }
          ],
          "surface": [
           {
            "colorbar": {
             "outlinewidth": 0,
             "ticks": ""
            },
            "colorscale": [
             [
              0,
              "#0d0887"
             ],
             [
              0.1111111111111111,
              "#46039f"
             ],
             [
              0.2222222222222222,
              "#7201a8"
             ],
             [
              0.3333333333333333,
              "#9c179e"
             ],
             [
              0.4444444444444444,
              "#bd3786"
             ],
             [
              0.5555555555555556,
              "#d8576b"
             ],
             [
              0.6666666666666666,
              "#ed7953"
             ],
             [
              0.7777777777777778,
              "#fb9f3a"
             ],
             [
              0.8888888888888888,
              "#fdca26"
             ],
             [
              1,
              "#f0f921"
             ]
            ],
            "type": "surface"
           }
          ],
          "table": [
           {
            "cells": {
             "fill": {
              "color": "#EBF0F8"
             },
             "line": {
              "color": "white"
             }
            },
            "header": {
             "fill": {
              "color": "#C8D4E3"
             },
             "line": {
              "color": "white"
             }
            },
            "type": "table"
           }
          ]
         },
         "layout": {
          "annotationdefaults": {
           "arrowcolor": "#2a3f5f",
           "arrowhead": 0,
           "arrowwidth": 1
          },
          "autotypenumbers": "strict",
          "coloraxis": {
           "colorbar": {
            "outlinewidth": 0,
            "ticks": ""
           }
          },
          "colorscale": {
           "diverging": [
            [
             0,
             "#8e0152"
            ],
            [
             0.1,
             "#c51b7d"
            ],
            [
             0.2,
             "#de77ae"
            ],
            [
             0.3,
             "#f1b6da"
            ],
            [
             0.4,
             "#fde0ef"
            ],
            [
             0.5,
             "#f7f7f7"
            ],
            [
             0.6,
             "#e6f5d0"
            ],
            [
             0.7,
             "#b8e186"
            ],
            [
             0.8,
             "#7fbc41"
            ],
            [
             0.9,
             "#4d9221"
            ],
            [
             1,
             "#276419"
            ]
           ],
           "sequential": [
            [
             0,
             "#0d0887"
            ],
            [
             0.1111111111111111,
             "#46039f"
            ],
            [
             0.2222222222222222,
             "#7201a8"
            ],
            [
             0.3333333333333333,
             "#9c179e"
            ],
            [
             0.4444444444444444,
             "#bd3786"
            ],
            [
             0.5555555555555556,
             "#d8576b"
            ],
            [
             0.6666666666666666,
             "#ed7953"
            ],
            [
             0.7777777777777778,
             "#fb9f3a"
            ],
            [
             0.8888888888888888,
             "#fdca26"
            ],
            [
             1,
             "#f0f921"
            ]
           ],
           "sequentialminus": [
            [
             0,
             "#0d0887"
            ],
            [
             0.1111111111111111,
             "#46039f"
            ],
            [
             0.2222222222222222,
             "#7201a8"
            ],
            [
             0.3333333333333333,
             "#9c179e"
            ],
            [
             0.4444444444444444,
             "#bd3786"
            ],
            [
             0.5555555555555556,
             "#d8576b"
            ],
            [
             0.6666666666666666,
             "#ed7953"
            ],
            [
             0.7777777777777778,
             "#fb9f3a"
            ],
            [
             0.8888888888888888,
             "#fdca26"
            ],
            [
             1,
             "#f0f921"
            ]
           ]
          },
          "colorway": [
           "#636efa",
           "#EF553B",
           "#00cc96",
           "#ab63fa",
           "#FFA15A",
           "#19d3f3",
           "#FF6692",
           "#B6E880",
           "#FF97FF",
           "#FECB52"
          ],
          "font": {
           "color": "#2a3f5f"
          },
          "geo": {
           "bgcolor": "white",
           "lakecolor": "white",
           "landcolor": "#E5ECF6",
           "showlakes": true,
           "showland": true,
           "subunitcolor": "white"
          },
          "hoverlabel": {
           "align": "left"
          },
          "hovermode": "closest",
          "mapbox": {
           "style": "light"
          },
          "paper_bgcolor": "white",
          "plot_bgcolor": "#E5ECF6",
          "polar": {
           "angularaxis": {
            "gridcolor": "white",
            "linecolor": "white",
            "ticks": ""
           },
           "bgcolor": "#E5ECF6",
           "radialaxis": {
            "gridcolor": "white",
            "linecolor": "white",
            "ticks": ""
           }
          },
          "scene": {
           "xaxis": {
            "backgroundcolor": "#E5ECF6",
            "gridcolor": "white",
            "gridwidth": 2,
            "linecolor": "white",
            "showbackground": true,
            "ticks": "",
            "zerolinecolor": "white"
           },
           "yaxis": {
            "backgroundcolor": "#E5ECF6",
            "gridcolor": "white",
            "gridwidth": 2,
            "linecolor": "white",
            "showbackground": true,
            "ticks": "",
            "zerolinecolor": "white"
           },
           "zaxis": {
            "backgroundcolor": "#E5ECF6",
            "gridcolor": "white",
            "gridwidth": 2,
            "linecolor": "white",
            "showbackground": true,
            "ticks": "",
            "zerolinecolor": "white"
           }
          },
          "shapedefaults": {
           "line": {
            "color": "#2a3f5f"
           }
          },
          "ternary": {
           "aaxis": {
            "gridcolor": "white",
            "linecolor": "white",
            "ticks": ""
           },
           "baxis": {
            "gridcolor": "white",
            "linecolor": "white",
            "ticks": ""
           },
           "bgcolor": "#E5ECF6",
           "caxis": {
            "gridcolor": "white",
            "linecolor": "white",
            "ticks": ""
           }
          },
          "title": {
           "x": 0.05
          },
          "xaxis": {
           "automargin": true,
           "gridcolor": "white",
           "linecolor": "white",
           "ticks": "",
           "title": {
            "standoff": 15
           },
           "zerolinecolor": "white",
           "zerolinewidth": 2
          },
          "yaxis": {
           "automargin": true,
           "gridcolor": "white",
           "linecolor": "white",
           "ticks": "",
           "title": {
            "standoff": 15
           },
           "zerolinecolor": "white",
           "zerolinewidth": 2
          }
         }
        },
        "xaxis": {
         "anchor": "y",
         "domain": [
          0,
          1
         ],
         "title": {
          "text": "index"
         }
        },
        "yaxis": {
         "anchor": "x",
         "domain": [
          0,
          1
         ],
         "title": {
          "text": "value"
         }
        }
       }
      },
      "text/html": [
       "<div>                            <div id=\"14325334-ec4d-4309-8861-c71c99557ea1\" class=\"plotly-graph-div\" style=\"height:525px; width:100%;\"></div>            <script type=\"text/javascript\">                require([\"plotly\"], function(Plotly) {                    window.PLOTLYENV=window.PLOTLYENV || {};                                    if (document.getElementById(\"14325334-ec4d-4309-8861-c71c99557ea1\")) {                    Plotly.newPlot(                        \"14325334-ec4d-4309-8861-c71c99557ea1\",                        [{\"hovertemplate\":\"variable=freq<br>index=%{x}<br>value=%{y}<extra></extra>\",\"legendgroup\":\"freq\",\"marker\":{\"color\":\"#636efa\",\"symbol\":\"circle\"},\"mode\":\"markers\",\"name\":\"freq\",\"orientation\":\"v\",\"showlegend\":true,\"type\":\"scatter\",\"x\":[0,1,2,3,4,5,6,7,8,9,10,11,12,13,14,15,16,17,18,19,20,21,22,23,24,25,26,27,28,29,30,31,32,33,34],\"xaxis\":\"x\",\"y\":[1.3589911753554205,1.6193503620032896,1.851514710988198,3.5374048898762225,16.39231750389664,17.144072432672047,17.589067527671375,18.137497398555762,18.43716824457367,18.867985364065454,19.859476969652214,20.852579708821235,40.68273404731951,41.46606719427463,42.05767544511486,51.91781295925266,52.94346059675158,62.333147105299574,62.600273052986466,131.29933116255458,145.70608764154275,151.93795233184994,178.51521187975752,184.74063203574173,192.90907929009984,199.1602775833759,225.70853672683015,231.94040141713722,240.12818227446428,246.343935628964,272.91797290971016,10.425645400978269,9.888010125083834,2.8660455267812313,3.2591621204821624],\"yaxis\":\"y\"}],                        {\"legend\":{\"title\":{\"text\":\"variable\"},\"tracegroupgap\":0},\"margin\":{\"t\":60},\"template\":{\"data\":{\"bar\":[{\"error_x\":{\"color\":\"#2a3f5f\"},\"error_y\":{\"color\":\"#2a3f5f\"},\"marker\":{\"line\":{\"color\":\"#E5ECF6\",\"width\":0.5},\"pattern\":{\"fillmode\":\"overlay\",\"size\":10,\"solidity\":0.2}},\"type\":\"bar\"}],\"barpolar\":[{\"marker\":{\"line\":{\"color\":\"#E5ECF6\",\"width\":0.5},\"pattern\":{\"fillmode\":\"overlay\",\"size\":10,\"solidity\":0.2}},\"type\":\"barpolar\"}],\"carpet\":[{\"aaxis\":{\"endlinecolor\":\"#2a3f5f\",\"gridcolor\":\"white\",\"linecolor\":\"white\",\"minorgridcolor\":\"white\",\"startlinecolor\":\"#2a3f5f\"},\"baxis\":{\"endlinecolor\":\"#2a3f5f\",\"gridcolor\":\"white\",\"linecolor\":\"white\",\"minorgridcolor\":\"white\",\"startlinecolor\":\"#2a3f5f\"},\"type\":\"carpet\"}],\"choropleth\":[{\"colorbar\":{\"outlinewidth\":0,\"ticks\":\"\"},\"type\":\"choropleth\"}],\"contour\":[{\"colorbar\":{\"outlinewidth\":0,\"ticks\":\"\"},\"colorscale\":[[0.0,\"#0d0887\"],[0.1111111111111111,\"#46039f\"],[0.2222222222222222,\"#7201a8\"],[0.3333333333333333,\"#9c179e\"],[0.4444444444444444,\"#bd3786\"],[0.5555555555555556,\"#d8576b\"],[0.6666666666666666,\"#ed7953\"],[0.7777777777777778,\"#fb9f3a\"],[0.8888888888888888,\"#fdca26\"],[1.0,\"#f0f921\"]],\"type\":\"contour\"}],\"contourcarpet\":[{\"colorbar\":{\"outlinewidth\":0,\"ticks\":\"\"},\"type\":\"contourcarpet\"}],\"heatmap\":[{\"colorbar\":{\"outlinewidth\":0,\"ticks\":\"\"},\"colorscale\":[[0.0,\"#0d0887\"],[0.1111111111111111,\"#46039f\"],[0.2222222222222222,\"#7201a8\"],[0.3333333333333333,\"#9c179e\"],[0.4444444444444444,\"#bd3786\"],[0.5555555555555556,\"#d8576b\"],[0.6666666666666666,\"#ed7953\"],[0.7777777777777778,\"#fb9f3a\"],[0.8888888888888888,\"#fdca26\"],[1.0,\"#f0f921\"]],\"type\":\"heatmap\"}],\"heatmapgl\":[{\"colorbar\":{\"outlinewidth\":0,\"ticks\":\"\"},\"colorscale\":[[0.0,\"#0d0887\"],[0.1111111111111111,\"#46039f\"],[0.2222222222222222,\"#7201a8\"],[0.3333333333333333,\"#9c179e\"],[0.4444444444444444,\"#bd3786\"],[0.5555555555555556,\"#d8576b\"],[0.6666666666666666,\"#ed7953\"],[0.7777777777777778,\"#fb9f3a\"],[0.8888888888888888,\"#fdca26\"],[1.0,\"#f0f921\"]],\"type\":\"heatmapgl\"}],\"histogram\":[{\"marker\":{\"pattern\":{\"fillmode\":\"overlay\",\"size\":10,\"solidity\":0.2}},\"type\":\"histogram\"}],\"histogram2d\":[{\"colorbar\":{\"outlinewidth\":0,\"ticks\":\"\"},\"colorscale\":[[0.0,\"#0d0887\"],[0.1111111111111111,\"#46039f\"],[0.2222222222222222,\"#7201a8\"],[0.3333333333333333,\"#9c179e\"],[0.4444444444444444,\"#bd3786\"],[0.5555555555555556,\"#d8576b\"],[0.6666666666666666,\"#ed7953\"],[0.7777777777777778,\"#fb9f3a\"],[0.8888888888888888,\"#fdca26\"],[1.0,\"#f0f921\"]],\"type\":\"histogram2d\"}],\"histogram2dcontour\":[{\"colorbar\":{\"outlinewidth\":0,\"ticks\":\"\"},\"colorscale\":[[0.0,\"#0d0887\"],[0.1111111111111111,\"#46039f\"],[0.2222222222222222,\"#7201a8\"],[0.3333333333333333,\"#9c179e\"],[0.4444444444444444,\"#bd3786\"],[0.5555555555555556,\"#d8576b\"],[0.6666666666666666,\"#ed7953\"],[0.7777777777777778,\"#fb9f3a\"],[0.8888888888888888,\"#fdca26\"],[1.0,\"#f0f921\"]],\"type\":\"histogram2dcontour\"}],\"mesh3d\":[{\"colorbar\":{\"outlinewidth\":0,\"ticks\":\"\"},\"type\":\"mesh3d\"}],\"parcoords\":[{\"line\":{\"colorbar\":{\"outlinewidth\":0,\"ticks\":\"\"}},\"type\":\"parcoords\"}],\"pie\":[{\"automargin\":true,\"type\":\"pie\"}],\"scatter\":[{\"marker\":{\"colorbar\":{\"outlinewidth\":0,\"ticks\":\"\"}},\"type\":\"scatter\"}],\"scatter3d\":[{\"line\":{\"colorbar\":{\"outlinewidth\":0,\"ticks\":\"\"}},\"marker\":{\"colorbar\":{\"outlinewidth\":0,\"ticks\":\"\"}},\"type\":\"scatter3d\"}],\"scattercarpet\":[{\"marker\":{\"colorbar\":{\"outlinewidth\":0,\"ticks\":\"\"}},\"type\":\"scattercarpet\"}],\"scattergeo\":[{\"marker\":{\"colorbar\":{\"outlinewidth\":0,\"ticks\":\"\"}},\"type\":\"scattergeo\"}],\"scattergl\":[{\"marker\":{\"colorbar\":{\"outlinewidth\":0,\"ticks\":\"\"}},\"type\":\"scattergl\"}],\"scattermapbox\":[{\"marker\":{\"colorbar\":{\"outlinewidth\":0,\"ticks\":\"\"}},\"type\":\"scattermapbox\"}],\"scatterpolar\":[{\"marker\":{\"colorbar\":{\"outlinewidth\":0,\"ticks\":\"\"}},\"type\":\"scatterpolar\"}],\"scatterpolargl\":[{\"marker\":{\"colorbar\":{\"outlinewidth\":0,\"ticks\":\"\"}},\"type\":\"scatterpolargl\"}],\"scatterternary\":[{\"marker\":{\"colorbar\":{\"outlinewidth\":0,\"ticks\":\"\"}},\"type\":\"scatterternary\"}],\"surface\":[{\"colorbar\":{\"outlinewidth\":0,\"ticks\":\"\"},\"colorscale\":[[0.0,\"#0d0887\"],[0.1111111111111111,\"#46039f\"],[0.2222222222222222,\"#7201a8\"],[0.3333333333333333,\"#9c179e\"],[0.4444444444444444,\"#bd3786\"],[0.5555555555555556,\"#d8576b\"],[0.6666666666666666,\"#ed7953\"],[0.7777777777777778,\"#fb9f3a\"],[0.8888888888888888,\"#fdca26\"],[1.0,\"#f0f921\"]],\"type\":\"surface\"}],\"table\":[{\"cells\":{\"fill\":{\"color\":\"#EBF0F8\"},\"line\":{\"color\":\"white\"}},\"header\":{\"fill\":{\"color\":\"#C8D4E3\"},\"line\":{\"color\":\"white\"}},\"type\":\"table\"}]},\"layout\":{\"annotationdefaults\":{\"arrowcolor\":\"#2a3f5f\",\"arrowhead\":0,\"arrowwidth\":1},\"autotypenumbers\":\"strict\",\"coloraxis\":{\"colorbar\":{\"outlinewidth\":0,\"ticks\":\"\"}},\"colorscale\":{\"diverging\":[[0,\"#8e0152\"],[0.1,\"#c51b7d\"],[0.2,\"#de77ae\"],[0.3,\"#f1b6da\"],[0.4,\"#fde0ef\"],[0.5,\"#f7f7f7\"],[0.6,\"#e6f5d0\"],[0.7,\"#b8e186\"],[0.8,\"#7fbc41\"],[0.9,\"#4d9221\"],[1,\"#276419\"]],\"sequential\":[[0.0,\"#0d0887\"],[0.1111111111111111,\"#46039f\"],[0.2222222222222222,\"#7201a8\"],[0.3333333333333333,\"#9c179e\"],[0.4444444444444444,\"#bd3786\"],[0.5555555555555556,\"#d8576b\"],[0.6666666666666666,\"#ed7953\"],[0.7777777777777778,\"#fb9f3a\"],[0.8888888888888888,\"#fdca26\"],[1.0,\"#f0f921\"]],\"sequentialminus\":[[0.0,\"#0d0887\"],[0.1111111111111111,\"#46039f\"],[0.2222222222222222,\"#7201a8\"],[0.3333333333333333,\"#9c179e\"],[0.4444444444444444,\"#bd3786\"],[0.5555555555555556,\"#d8576b\"],[0.6666666666666666,\"#ed7953\"],[0.7777777777777778,\"#fb9f3a\"],[0.8888888888888888,\"#fdca26\"],[1.0,\"#f0f921\"]]},\"colorway\":[\"#636efa\",\"#EF553B\",\"#00cc96\",\"#ab63fa\",\"#FFA15A\",\"#19d3f3\",\"#FF6692\",\"#B6E880\",\"#FF97FF\",\"#FECB52\"],\"font\":{\"color\":\"#2a3f5f\"},\"geo\":{\"bgcolor\":\"white\",\"lakecolor\":\"white\",\"landcolor\":\"#E5ECF6\",\"showlakes\":true,\"showland\":true,\"subunitcolor\":\"white\"},\"hoverlabel\":{\"align\":\"left\"},\"hovermode\":\"closest\",\"mapbox\":{\"style\":\"light\"},\"paper_bgcolor\":\"white\",\"plot_bgcolor\":\"#E5ECF6\",\"polar\":{\"angularaxis\":{\"gridcolor\":\"white\",\"linecolor\":\"white\",\"ticks\":\"\"},\"bgcolor\":\"#E5ECF6\",\"radialaxis\":{\"gridcolor\":\"white\",\"linecolor\":\"white\",\"ticks\":\"\"}},\"scene\":{\"xaxis\":{\"backgroundcolor\":\"#E5ECF6\",\"gridcolor\":\"white\",\"gridwidth\":2,\"linecolor\":\"white\",\"showbackground\":true,\"ticks\":\"\",\"zerolinecolor\":\"white\"},\"yaxis\":{\"backgroundcolor\":\"#E5ECF6\",\"gridcolor\":\"white\",\"gridwidth\":2,\"linecolor\":\"white\",\"showbackground\":true,\"ticks\":\"\",\"zerolinecolor\":\"white\"},\"zaxis\":{\"backgroundcolor\":\"#E5ECF6\",\"gridcolor\":\"white\",\"gridwidth\":2,\"linecolor\":\"white\",\"showbackground\":true,\"ticks\":\"\",\"zerolinecolor\":\"white\"}},\"shapedefaults\":{\"line\":{\"color\":\"#2a3f5f\"}},\"ternary\":{\"aaxis\":{\"gridcolor\":\"white\",\"linecolor\":\"white\",\"ticks\":\"\"},\"baxis\":{\"gridcolor\":\"white\",\"linecolor\":\"white\",\"ticks\":\"\"},\"bgcolor\":\"#E5ECF6\",\"caxis\":{\"gridcolor\":\"white\",\"linecolor\":\"white\",\"ticks\":\"\"}},\"title\":{\"x\":0.05},\"xaxis\":{\"automargin\":true,\"gridcolor\":\"white\",\"linecolor\":\"white\",\"ticks\":\"\",\"title\":{\"standoff\":15},\"zerolinecolor\":\"white\",\"zerolinewidth\":2},\"yaxis\":{\"automargin\":true,\"gridcolor\":\"white\",\"linecolor\":\"white\",\"ticks\":\"\",\"title\":{\"standoff\":15},\"zerolinecolor\":\"white\",\"zerolinewidth\":2}}},\"xaxis\":{\"anchor\":\"y\",\"domain\":[0.0,1.0],\"title\":{\"text\":\"index\"}},\"yaxis\":{\"anchor\":\"x\",\"domain\":[0.0,1.0],\"title\":{\"text\":\"value\"}}},                        {\"responsive\": true}                    ).then(function(){\n",
       "                            \n",
       "var gd = document.getElementById('14325334-ec4d-4309-8861-c71c99557ea1');\n",
       "var x = new MutationObserver(function (mutations, observer) {{\n",
       "        var display = window.getComputedStyle(gd).display;\n",
       "        if (!display || display === 'none') {{\n",
       "            console.log([gd, 'removed!']);\n",
       "            Plotly.purge(gd);\n",
       "            observer.disconnect();\n",
       "        }}\n",
       "}});\n",
       "\n",
       "// Listen for the removal of the full notebook cells\n",
       "var notebookContainer = gd.closest('#notebook-container');\n",
       "if (notebookContainer) {{\n",
       "    x.observe(notebookContainer, {childList: true});\n",
       "}}\n",
       "\n",
       "// Listen for the clearing of the current output cell\n",
       "var outputEl = gd.closest('.output');\n",
       "if (outputEl) {{\n",
       "    x.observe(outputEl, {childList: true});\n",
       "}}\n",
       "\n",
       "                        })                };                });            </script>        </div>"
      ]
     },
     "metadata": {},
     "output_type": "display_data"
    }
   ],
   "source": [
    "#import sys  \n",
    "#!{sys.executable} -m pip install pandas\n",
    "#!{sys.executable} -m pip install matplotlib\n",
    "#!{sys.executable} -m pip install sklearn\n",
    "#!{sys.executable} -m pip install seaborn\n",
    "#!{sys.executable} -m pip install plotly\n",
    "import numpy as np\n",
    "import matplotlib\n",
    "matplotlib.rcParams['text.usetex'] = True\n",
    "import matplotlib.pyplot as plt\n",
    "from matplotlib.pyplot import figure\n",
    "from matplotlib.backends.backend_pdf import PdfPages\n",
    "\n",
    "from sklearn.linear_model import RANSACRegressor\n",
    "from sklearn.datasets import make_regression\n",
    "\n",
    "import seaborn as sns\n",
    "\n",
    "import os  # para obter nome da pasta\n",
    "import matplotlib.gridspec as gridspec #para layout das figuras\n",
    "\n",
    "import pandas as pd\n",
    "import plotly.graph_objects as go\n",
    "import plotly.express as px\n",
    "from sklearn.metrics import median_absolute_error\n",
    "\n",
    "from scipy import interpolate\n",
    "\n",
    "folder='no_combination/'\n",
    "# folder='D:\\home\\user\\Documentos\\Astronomia\\kepler\\c13\\photometry\\k2sc_pdc_plot\\k2sc_corte\\lc_clean_ivs_criterios\\\\no_combination\\\\'\n",
    "folder2='only_combination/'\n",
    "# folder='D:\\home\\user\\Documentos\\Astronomia\\kepler\\c13\\photometry\\k2sc_pdc_plot\\k2sc_corte\\lc_clean_ivs_criterios\\\\only_combination\\\\'\n",
    "# spb  = 210853356, 246704649, 246968117, 247131891, 247147476, 247153152, 247164195,\n",
    "#        247169098, 247234723, 247264203, 247745384, 247757517, 247889905, 248064520,\n",
    "#        248150769, 248227339.\n",
    "\n",
    "# le tabela lambda_mm(s), m=1 \n",
    "lambda_mm_s=np.loadtxt('lambda_me1.txt')\n",
    "lambda_mm_s_interpo = interpolate.InterpolatedUnivariateSpline(lambda_mm_s[:,0], lambda_mm_s[:,1])\n",
    "\n",
    "name=['247745384']\n",
    "resultado_pw_no_combination=np.load(folder+name[0]+'_no_combination.npy')\n",
    "resultado_pw_only_combination=np.load(folder2+name[0]+'_only_combination.npy')\n",
    "all_data=pd.DataFrame(np.append(resultado_pw_no_combination,resultado_pw_only_combination))\n",
    "\n",
    "freq_ivs_only_combination=resultado_pw_only_combination['freq']#[np.where(resultado_pw['freq']>0.04)]\n",
    "freq_ivs_no_combination=resultado_pw_no_combination['freq']\n",
    "freq_ivs_all_dia=all_data['freq']\n",
    "freq_ivs_og=np.copy(freq_ivs_all_dia)\n",
    "px.scatter(freq_ivs_all_dia*1000000/(3600*24))"
   ]
  },
  {
   "cell_type": "code",
   "execution_count": 138,
   "id": "91f31dd6",
   "metadata": {},
   "outputs": [
    {
     "data": {
      "text/plain": [
       "array([(0., 1515.57748354,  0.11741684, -0.123582  , 0., 259.34532026, 0.00131328, 0.1711198 ,  9.35354831),\n",
       "       (0., 2569.62332049,  0.13991187,  0.28776902, 0., 321.04728722, 0.00095886, 0.12493944, 15.9253826 ),\n",
       "       (0., 2099.85860736,  0.15997087,  0.35199683, 0., 297.30505759, 0.0010866 , 0.14158337, 11.81283701),\n",
       "       (0.,  435.13889962,  0.30563178,  0.27662927, 0., 114.30055109, 0.00201593, 0.26267601,  4.12921385),\n",
       "       (0.,  445.61374047,  1.41629623,  0.13945303, 0., 125.84785062, 0.00216742, 0.28241465,  4.09465703),\n",
       "       (0.,  880.13755774,  1.48124786, -0.21532534, 0., 196.18502187, 0.00171069, 0.22290268,  6.42317061),\n",
       "       (0., 1115.42747507,  1.51969543,  0.07473348, 0., 218.71058172, 0.00150482, 0.19607781,  7.52187482),\n",
       "       (0.,  713.07925983,  1.56707978, -0.34368524, 0., 173.86436703, 0.00187124, 0.24382194,  5.54427193),\n",
       "       (0.,  447.43430143,  1.59297134, -0.43416749, 0., 130.17408018, 0.00223281, 0.29093451,  4.10749732),\n",
       "       (0.,  705.74648504,  1.63019394,  0.15378998, 0., 182.5272772 , 0.00198488, 0.25863009,  5.54050109),\n",
       "       (0.,  625.54876605,  1.71585881, -0.29730032, 0., 168.0214407 , 0.00206139, 0.26859847,  5.22215178),\n",
       "       (0., 1468.41161465,  1.80166289, -0.30176084, 0., 281.1390739 , 0.00146936, 0.19145795,  9.23660404),\n",
       "       (0.,  441.49894513,  3.51498822,  0.01501394, 0., 163.80316565, 0.0028474 , 0.37101598,  5.15611014),\n",
       "       (0.,  869.61977905,  3.58266821, -0.27201748, 0., 285.09640645, 0.00251604, 0.3278403 ,  9.17635924),\n",
       "       (0.,  466.9081271 ,  3.63378316,  0.43326899, 0., 181.28582828, 0.00297981, 0.38826874,  5.48248027),\n",
       "       (0.,  240.01507941,  4.48569904, -0.15731791, 0., 112.60348671, 0.00360055, 0.46915172,  3.7080246 ),\n",
       "       (0.,  356.92744372,  4.574315  ,  0.05301943, 0., 179.10912214, 0.00385118, 0.50180821,  5.49741618),\n",
       "       (0.,  291.9888394 ,  5.38558391, -0.43701341, 0., 163.68834663, 0.00430237, 0.56059796,  5.20380947),\n",
       "       (0.,  340.68401432,  5.40866359,  0.22890519, 0., 219.22577094, 0.00493851, 0.64348711,  7.71269095),\n",
       "       (0.,   64.84648271, 11.34426221,  0.30202221, 0., 161.68610825, 0.01913561, 2.49336743,  5.35894413),\n",
       "       (0.,   61.17802143, 12.58900597,  0.20528274, 0., 117.55095264, 0.01474643, 1.92145725,  4.11939569),\n",
       "       (0.,   66.82362299, 13.12743908,  0.47935275, 0., 160.26374895, 0.01840608, 2.39830979,  5.36391007),\n",
       "       (0.,   62.70665503, 15.42371431, -0.18781296, 0., 160.18903189, 0.01960538, 2.55457785,  5.36093144),\n",
       "       (0.,   55.7375401 , 15.96159061, -0.15662778, 0., 117.18451142, 0.01613535, 2.10243422,  4.12552624),\n",
       "       (0.,   62.8360007 , 16.66734445,  0.10604044, 0., 119.19336725, 0.01455793, 1.89689614,  4.11617003),\n",
       "       (0.,   69.74657878, 17.20744798,  0.28440119, 0., 160.7496822 , 0.01768818, 2.30476799,  5.36214083),\n",
       "       (0.,   54.25011509, 19.50121757,  0.26546891, 0., 161.08279377, 0.02278791, 2.96926179,  5.35657732),\n",
       "       (0.,   61.34365637, 20.03965068, -0.43646494, 0., 118.56201796, 0.0148331 , 1.93275108,  4.11346645),\n",
       "       (0.,   63.19045454, 20.74707495, -0.24600487, 0., 118.90622366, 0.0144414 , 1.8817118 ,  4.11052407),\n",
       "       (0.,   55.76731792, 21.28411604,  0.26254291, 0., 160.59072017, 0.02210023, 2.87965651,  5.35797396),\n",
       "       (0.,   65.02825152, 23.58011286,  0.46392124, 0., 159.6310218 , 0.01883958, 2.45479492,  5.36056442)],\n",
       "      dtype=[('const', '<f8'), ('ampl', '<f8'), ('freq', '<f8'), ('phase', '<f8'), ('e_const', '<f8'), ('e_ampl', '<f8'), ('e_freq', '<f8'), ('e_phase', '<f8'), ('stopcrit', '<f8')])"
      ]
     },
     "execution_count": 138,
     "metadata": {},
     "output_type": "execute_result"
    }
   ],
   "source": [
    "resultado_pw_no_combination"
   ]
  },
  {
   "cell_type": "code",
   "execution_count": 193,
   "id": "a5ccec30",
   "metadata": {},
   "outputs": [
    {
     "data": {
      "application/vnd.plotly.v1+json": {
       "config": {
        "plotlyServerURL": "https://plot.ly"
       },
       "data": [
        {
         "customdata": [
          [
           0
          ],
          [
           1
          ],
          [
           2
          ],
          [
           3
          ],
          [
           4
          ],
          [
           5
          ],
          [
           6
          ],
          [
           7
          ],
          [
           8
          ],
          [
           9
          ],
          [
           10
          ],
          [
           11
          ],
          [
           12
          ],
          [
           13
          ],
          [
           14
          ],
          [
           15
          ],
          [
           16
          ],
          [
           17
          ],
          [
           18
          ],
          [
           19
          ],
          [
           20
          ],
          [
           21
          ],
          [
           22
          ],
          [
           23
          ],
          [
           24
          ],
          [
           25
          ],
          [
           26
          ],
          [
           27
          ],
          [
           28
          ],
          [
           29
          ],
          [
           30
          ],
          [
           31
          ],
          [
           32
          ],
          [
           33
          ]
         ],
         "hovertemplate": "x=%{x}<br>y=%{y}<br>hover_data_0=%{customdata[0]}<extra></extra>",
         "legendgroup": "",
         "marker": {
          "color": "#636efa",
          "symbol": "circle"
         },
         "mode": "markers",
         "name": "",
         "orientation": "v",
         "showlegend": false,
         "type": "scatter",
         "x": [
          1.4891707686793552,
          1.7354325364957437,
          2.3587801188847144,
          3.062603823631697,
          3.398283505179193,
          6.712707507480029,
          10.156827763031053,
          13.408981452437455,
          16.76819496828434,
          17.36656998017171,
          17.86328246311357,
          18.287332821564718,
          18.652576804319562,
          19.363731166858834,
          20.356028339236723,
          30.76765687807037,
          41.074400620797064,
          41.76187131969475,
          46.98774420218376,
          52.430636778002125,
          57.63830385102558,
          62.46671007914303,
          96.94980210777052,
          138.50270940204868,
          148.82201998669638,
          165.22658210580374,
          181.6279219577496,
          188.82485566292078,
          196.03467843673786,
          212.43440715510303,
          228.8244690719837,
          236.03429184580077,
          243.23605895171414,
          259.63095426933705
         ],
         "xaxis": "x",
         "y": [
          0.510254041285191,
          0.48183435845205963,
          1.0072392048530645,
          0.6269901065415077,
          0.5274872220197002,
          2.5200407209423443,
          0.7332361665210166,
          2.4426772408401334,
          0.867038020374775,
          0.6670795267427475,
          0.7405605112915401,
          0.5474219999396327,
          0.6563666044915636,
          0.9957367149938579,
          0.9965454024624375,
          4.45310614498445,
          0.8850610978656347,
          0.7691607444742816,
          3.1400855902567057,
          1.0127426314216859,
          3.0642595367474987,
          0.5168422851188604,
          8.28848949505084,
          3.795623332074483,
          2.4963703031215467,
          5.155313719639919,
          2.495079188319323,
          2.8580495542166715,
          2.5002396471690562,
          5.152500280781583,
          2.4963703031215294,
          2.8614298623812235,
          2.493141262443772,
          5.155001191148859
         ],
         "yaxis": "y"
        }
       ],
       "layout": {
        "legend": {
         "tracegroupgap": 0
        },
        "margin": {
         "t": 60
        },
        "template": {
         "data": {
          "bar": [
           {
            "error_x": {
             "color": "#2a3f5f"
            },
            "error_y": {
             "color": "#2a3f5f"
            },
            "marker": {
             "line": {
              "color": "#E5ECF6",
              "width": 0.5
             },
             "pattern": {
              "fillmode": "overlay",
              "size": 10,
              "solidity": 0.2
             }
            },
            "type": "bar"
           }
          ],
          "barpolar": [
           {
            "marker": {
             "line": {
              "color": "#E5ECF6",
              "width": 0.5
             },
             "pattern": {
              "fillmode": "overlay",
              "size": 10,
              "solidity": 0.2
             }
            },
            "type": "barpolar"
           }
          ],
          "carpet": [
           {
            "aaxis": {
             "endlinecolor": "#2a3f5f",
             "gridcolor": "white",
             "linecolor": "white",
             "minorgridcolor": "white",
             "startlinecolor": "#2a3f5f"
            },
            "baxis": {
             "endlinecolor": "#2a3f5f",
             "gridcolor": "white",
             "linecolor": "white",
             "minorgridcolor": "white",
             "startlinecolor": "#2a3f5f"
            },
            "type": "carpet"
           }
          ],
          "choropleth": [
           {
            "colorbar": {
             "outlinewidth": 0,
             "ticks": ""
            },
            "type": "choropleth"
           }
          ],
          "contour": [
           {
            "colorbar": {
             "outlinewidth": 0,
             "ticks": ""
            },
            "colorscale": [
             [
              0,
              "#0d0887"
             ],
             [
              0.1111111111111111,
              "#46039f"
             ],
             [
              0.2222222222222222,
              "#7201a8"
             ],
             [
              0.3333333333333333,
              "#9c179e"
             ],
             [
              0.4444444444444444,
              "#bd3786"
             ],
             [
              0.5555555555555556,
              "#d8576b"
             ],
             [
              0.6666666666666666,
              "#ed7953"
             ],
             [
              0.7777777777777778,
              "#fb9f3a"
             ],
             [
              0.8888888888888888,
              "#fdca26"
             ],
             [
              1,
              "#f0f921"
             ]
            ],
            "type": "contour"
           }
          ],
          "contourcarpet": [
           {
            "colorbar": {
             "outlinewidth": 0,
             "ticks": ""
            },
            "type": "contourcarpet"
           }
          ],
          "heatmap": [
           {
            "colorbar": {
             "outlinewidth": 0,
             "ticks": ""
            },
            "colorscale": [
             [
              0,
              "#0d0887"
             ],
             [
              0.1111111111111111,
              "#46039f"
             ],
             [
              0.2222222222222222,
              "#7201a8"
             ],
             [
              0.3333333333333333,
              "#9c179e"
             ],
             [
              0.4444444444444444,
              "#bd3786"
             ],
             [
              0.5555555555555556,
              "#d8576b"
             ],
             [
              0.6666666666666666,
              "#ed7953"
             ],
             [
              0.7777777777777778,
              "#fb9f3a"
             ],
             [
              0.8888888888888888,
              "#fdca26"
             ],
             [
              1,
              "#f0f921"
             ]
            ],
            "type": "heatmap"
           }
          ],
          "heatmapgl": [
           {
            "colorbar": {
             "outlinewidth": 0,
             "ticks": ""
            },
            "colorscale": [
             [
              0,
              "#0d0887"
             ],
             [
              0.1111111111111111,
              "#46039f"
             ],
             [
              0.2222222222222222,
              "#7201a8"
             ],
             [
              0.3333333333333333,
              "#9c179e"
             ],
             [
              0.4444444444444444,
              "#bd3786"
             ],
             [
              0.5555555555555556,
              "#d8576b"
             ],
             [
              0.6666666666666666,
              "#ed7953"
             ],
             [
              0.7777777777777778,
              "#fb9f3a"
             ],
             [
              0.8888888888888888,
              "#fdca26"
             ],
             [
              1,
              "#f0f921"
             ]
            ],
            "type": "heatmapgl"
           }
          ],
          "histogram": [
           {
            "marker": {
             "pattern": {
              "fillmode": "overlay",
              "size": 10,
              "solidity": 0.2
             }
            },
            "type": "histogram"
           }
          ],
          "histogram2d": [
           {
            "colorbar": {
             "outlinewidth": 0,
             "ticks": ""
            },
            "colorscale": [
             [
              0,
              "#0d0887"
             ],
             [
              0.1111111111111111,
              "#46039f"
             ],
             [
              0.2222222222222222,
              "#7201a8"
             ],
             [
              0.3333333333333333,
              "#9c179e"
             ],
             [
              0.4444444444444444,
              "#bd3786"
             ],
             [
              0.5555555555555556,
              "#d8576b"
             ],
             [
              0.6666666666666666,
              "#ed7953"
             ],
             [
              0.7777777777777778,
              "#fb9f3a"
             ],
             [
              0.8888888888888888,
              "#fdca26"
             ],
             [
              1,
              "#f0f921"
             ]
            ],
            "type": "histogram2d"
           }
          ],
          "histogram2dcontour": [
           {
            "colorbar": {
             "outlinewidth": 0,
             "ticks": ""
            },
            "colorscale": [
             [
              0,
              "#0d0887"
             ],
             [
              0.1111111111111111,
              "#46039f"
             ],
             [
              0.2222222222222222,
              "#7201a8"
             ],
             [
              0.3333333333333333,
              "#9c179e"
             ],
             [
              0.4444444444444444,
              "#bd3786"
             ],
             [
              0.5555555555555556,
              "#d8576b"
             ],
             [
              0.6666666666666666,
              "#ed7953"
             ],
             [
              0.7777777777777778,
              "#fb9f3a"
             ],
             [
              0.8888888888888888,
              "#fdca26"
             ],
             [
              1,
              "#f0f921"
             ]
            ],
            "type": "histogram2dcontour"
           }
          ],
          "mesh3d": [
           {
            "colorbar": {
             "outlinewidth": 0,
             "ticks": ""
            },
            "type": "mesh3d"
           }
          ],
          "parcoords": [
           {
            "line": {
             "colorbar": {
              "outlinewidth": 0,
              "ticks": ""
             }
            },
            "type": "parcoords"
           }
          ],
          "pie": [
           {
            "automargin": true,
            "type": "pie"
           }
          ],
          "scatter": [
           {
            "marker": {
             "colorbar": {
              "outlinewidth": 0,
              "ticks": ""
             }
            },
            "type": "scatter"
           }
          ],
          "scatter3d": [
           {
            "line": {
             "colorbar": {
              "outlinewidth": 0,
              "ticks": ""
             }
            },
            "marker": {
             "colorbar": {
              "outlinewidth": 0,
              "ticks": ""
             }
            },
            "type": "scatter3d"
           }
          ],
          "scattercarpet": [
           {
            "marker": {
             "colorbar": {
              "outlinewidth": 0,
              "ticks": ""
             }
            },
            "type": "scattercarpet"
           }
          ],
          "scattergeo": [
           {
            "marker": {
             "colorbar": {
              "outlinewidth": 0,
              "ticks": ""
             }
            },
            "type": "scattergeo"
           }
          ],
          "scattergl": [
           {
            "marker": {
             "colorbar": {
              "outlinewidth": 0,
              "ticks": ""
             }
            },
            "type": "scattergl"
           }
          ],
          "scattermapbox": [
           {
            "marker": {
             "colorbar": {
              "outlinewidth": 0,
              "ticks": ""
             }
            },
            "type": "scattermapbox"
           }
          ],
          "scatterpolar": [
           {
            "marker": {
             "colorbar": {
              "outlinewidth": 0,
              "ticks": ""
             }
            },
            "type": "scatterpolar"
           }
          ],
          "scatterpolargl": [
           {
            "marker": {
             "colorbar": {
              "outlinewidth": 0,
              "ticks": ""
             }
            },
            "type": "scatterpolargl"
           }
          ],
          "scatterternary": [
           {
            "marker": {
             "colorbar": {
              "outlinewidth": 0,
              "ticks": ""
             }
            },
            "type": "scatterternary"
           }
          ],
          "surface": [
           {
            "colorbar": {
             "outlinewidth": 0,
             "ticks": ""
            },
            "colorscale": [
             [
              0,
              "#0d0887"
             ],
             [
              0.1111111111111111,
              "#46039f"
             ],
             [
              0.2222222222222222,
              "#7201a8"
             ],
             [
              0.3333333333333333,
              "#9c179e"
             ],
             [
              0.4444444444444444,
              "#bd3786"
             ],
             [
              0.5555555555555556,
              "#d8576b"
             ],
             [
              0.6666666666666666,
              "#ed7953"
             ],
             [
              0.7777777777777778,
              "#fb9f3a"
             ],
             [
              0.8888888888888888,
              "#fdca26"
             ],
             [
              1,
              "#f0f921"
             ]
            ],
            "type": "surface"
           }
          ],
          "table": [
           {
            "cells": {
             "fill": {
              "color": "#EBF0F8"
             },
             "line": {
              "color": "white"
             }
            },
            "header": {
             "fill": {
              "color": "#C8D4E3"
             },
             "line": {
              "color": "white"
             }
            },
            "type": "table"
           }
          ]
         },
         "layout": {
          "annotationdefaults": {
           "arrowcolor": "#2a3f5f",
           "arrowhead": 0,
           "arrowwidth": 1
          },
          "autotypenumbers": "strict",
          "coloraxis": {
           "colorbar": {
            "outlinewidth": 0,
            "ticks": ""
           }
          },
          "colorscale": {
           "diverging": [
            [
             0,
             "#8e0152"
            ],
            [
             0.1,
             "#c51b7d"
            ],
            [
             0.2,
             "#de77ae"
            ],
            [
             0.3,
             "#f1b6da"
            ],
            [
             0.4,
             "#fde0ef"
            ],
            [
             0.5,
             "#f7f7f7"
            ],
            [
             0.6,
             "#e6f5d0"
            ],
            [
             0.7,
             "#b8e186"
            ],
            [
             0.8,
             "#7fbc41"
            ],
            [
             0.9,
             "#4d9221"
            ],
            [
             1,
             "#276419"
            ]
           ],
           "sequential": [
            [
             0,
             "#0d0887"
            ],
            [
             0.1111111111111111,
             "#46039f"
            ],
            [
             0.2222222222222222,
             "#7201a8"
            ],
            [
             0.3333333333333333,
             "#9c179e"
            ],
            [
             0.4444444444444444,
             "#bd3786"
            ],
            [
             0.5555555555555556,
             "#d8576b"
            ],
            [
             0.6666666666666666,
             "#ed7953"
            ],
            [
             0.7777777777777778,
             "#fb9f3a"
            ],
            [
             0.8888888888888888,
             "#fdca26"
            ],
            [
             1,
             "#f0f921"
            ]
           ],
           "sequentialminus": [
            [
             0,
             "#0d0887"
            ],
            [
             0.1111111111111111,
             "#46039f"
            ],
            [
             0.2222222222222222,
             "#7201a8"
            ],
            [
             0.3333333333333333,
             "#9c179e"
            ],
            [
             0.4444444444444444,
             "#bd3786"
            ],
            [
             0.5555555555555556,
             "#d8576b"
            ],
            [
             0.6666666666666666,
             "#ed7953"
            ],
            [
             0.7777777777777778,
             "#fb9f3a"
            ],
            [
             0.8888888888888888,
             "#fdca26"
            ],
            [
             1,
             "#f0f921"
            ]
           ]
          },
          "colorway": [
           "#636efa",
           "#EF553B",
           "#00cc96",
           "#ab63fa",
           "#FFA15A",
           "#19d3f3",
           "#FF6692",
           "#B6E880",
           "#FF97FF",
           "#FECB52"
          ],
          "font": {
           "color": "#2a3f5f"
          },
          "geo": {
           "bgcolor": "white",
           "lakecolor": "white",
           "landcolor": "#E5ECF6",
           "showlakes": true,
           "showland": true,
           "subunitcolor": "white"
          },
          "hoverlabel": {
           "align": "left"
          },
          "hovermode": "closest",
          "mapbox": {
           "style": "light"
          },
          "paper_bgcolor": "white",
          "plot_bgcolor": "#E5ECF6",
          "polar": {
           "angularaxis": {
            "gridcolor": "white",
            "linecolor": "white",
            "ticks": ""
           },
           "bgcolor": "#E5ECF6",
           "radialaxis": {
            "gridcolor": "white",
            "linecolor": "white",
            "ticks": ""
           }
          },
          "scene": {
           "xaxis": {
            "backgroundcolor": "#E5ECF6",
            "gridcolor": "white",
            "gridwidth": 2,
            "linecolor": "white",
            "showbackground": true,
            "ticks": "",
            "zerolinecolor": "white"
           },
           "yaxis": {
            "backgroundcolor": "#E5ECF6",
            "gridcolor": "white",
            "gridwidth": 2,
            "linecolor": "white",
            "showbackground": true,
            "ticks": "",
            "zerolinecolor": "white"
           },
           "zaxis": {
            "backgroundcolor": "#E5ECF6",
            "gridcolor": "white",
            "gridwidth": 2,
            "linecolor": "white",
            "showbackground": true,
            "ticks": "",
            "zerolinecolor": "white"
           }
          },
          "shapedefaults": {
           "line": {
            "color": "#2a3f5f"
           }
          },
          "ternary": {
           "aaxis": {
            "gridcolor": "white",
            "linecolor": "white",
            "ticks": ""
           },
           "baxis": {
            "gridcolor": "white",
            "linecolor": "white",
            "ticks": ""
           },
           "bgcolor": "#E5ECF6",
           "caxis": {
            "gridcolor": "white",
            "linecolor": "white",
            "ticks": ""
           }
          },
          "title": {
           "x": 0.05
          },
          "xaxis": {
           "automargin": true,
           "gridcolor": "white",
           "linecolor": "white",
           "ticks": "",
           "title": {
            "standoff": 15
           },
           "zerolinecolor": "white",
           "zerolinewidth": 2
          },
          "yaxis": {
           "automargin": true,
           "gridcolor": "white",
           "linecolor": "white",
           "ticks": "",
           "title": {
            "standoff": 15
           },
           "zerolinecolor": "white",
           "zerolinewidth": 2
          }
         }
        },
        "xaxis": {
         "anchor": "y",
         "domain": [
          0,
          1
         ],
         "title": {
          "text": "x"
         }
        },
        "yaxis": {
         "anchor": "x",
         "domain": [
          0,
          1
         ],
         "title": {
          "text": "y"
         }
        }
       }
      },
      "text/html": [
       "<div>                            <div id=\"a5d5c9c6-6c8e-4b63-8eff-198433271748\" class=\"plotly-graph-div\" style=\"height:525px; width:100%;\"></div>            <script type=\"text/javascript\">                require([\"plotly\"], function(Plotly) {                    window.PLOTLYENV=window.PLOTLYENV || {};                                    if (document.getElementById(\"a5d5c9c6-6c8e-4b63-8eff-198433271748\")) {                    Plotly.newPlot(                        \"a5d5c9c6-6c8e-4b63-8eff-198433271748\",                        [{\"customdata\":[[0.0],[1.0],[2.0],[3.0],[4.0],[5.0],[6.0],[7.0],[8.0],[9.0],[10.0],[11.0],[12.0],[13.0],[14.0],[15.0],[16.0],[17.0],[18.0],[19.0],[20.0],[21.0],[22.0],[23.0],[24.0],[25.0],[26.0],[27.0],[28.0],[29.0],[30.0],[31.0],[32.0],[33.0]],\"hovertemplate\":\"x=%{x}<br>y=%{y}<br>hover_data_0=%{customdata[0]}<extra></extra>\",\"legendgroup\":\"\",\"marker\":{\"color\":\"#636efa\",\"symbol\":\"circle\"},\"mode\":\"markers\",\"name\":\"\",\"orientation\":\"v\",\"showlegend\":false,\"type\":\"scatter\",\"x\":[1.4891707686793552,1.7354325364957437,2.3587801188847144,3.062603823631697,3.398283505179193,6.712707507480029,10.156827763031053,13.408981452437455,16.76819496828434,17.36656998017171,17.86328246311357,18.287332821564718,18.652576804319562,19.363731166858834,20.356028339236723,30.76765687807037,41.074400620797064,41.76187131969475,46.98774420218376,52.430636778002125,57.63830385102558,62.46671007914303,96.94980210777052,138.50270940204868,148.82201998669638,165.22658210580374,181.6279219577496,188.82485566292078,196.03467843673786,212.43440715510303,228.8244690719837,236.03429184580077,243.23605895171414,259.63095426933705],\"xaxis\":\"x\",\"y\":[0.510254041285191,0.48183435845205963,1.0072392048530645,0.6269901065415077,0.5274872220197002,2.5200407209423443,0.7332361665210166,2.4426772408401334,0.867038020374775,0.6670795267427475,0.7405605112915401,0.5474219999396327,0.6563666044915636,0.9957367149938579,0.9965454024624375,4.45310614498445,0.8850610978656347,0.7691607444742816,3.1400855902567057,1.0127426314216859,3.0642595367474987,0.5168422851188604,8.28848949505084,3.795623332074483,2.4963703031215467,5.155313719639919,2.495079188319323,2.8580495542166715,2.5002396471690562,5.152500280781583,2.4963703031215294,2.8614298623812235,2.493141262443772,5.155001191148859],\"yaxis\":\"y\"}],                        {\"legend\":{\"tracegroupgap\":0},\"margin\":{\"t\":60},\"template\":{\"data\":{\"bar\":[{\"error_x\":{\"color\":\"#2a3f5f\"},\"error_y\":{\"color\":\"#2a3f5f\"},\"marker\":{\"line\":{\"color\":\"#E5ECF6\",\"width\":0.5},\"pattern\":{\"fillmode\":\"overlay\",\"size\":10,\"solidity\":0.2}},\"type\":\"bar\"}],\"barpolar\":[{\"marker\":{\"line\":{\"color\":\"#E5ECF6\",\"width\":0.5},\"pattern\":{\"fillmode\":\"overlay\",\"size\":10,\"solidity\":0.2}},\"type\":\"barpolar\"}],\"carpet\":[{\"aaxis\":{\"endlinecolor\":\"#2a3f5f\",\"gridcolor\":\"white\",\"linecolor\":\"white\",\"minorgridcolor\":\"white\",\"startlinecolor\":\"#2a3f5f\"},\"baxis\":{\"endlinecolor\":\"#2a3f5f\",\"gridcolor\":\"white\",\"linecolor\":\"white\",\"minorgridcolor\":\"white\",\"startlinecolor\":\"#2a3f5f\"},\"type\":\"carpet\"}],\"choropleth\":[{\"colorbar\":{\"outlinewidth\":0,\"ticks\":\"\"},\"type\":\"choropleth\"}],\"contour\":[{\"colorbar\":{\"outlinewidth\":0,\"ticks\":\"\"},\"colorscale\":[[0.0,\"#0d0887\"],[0.1111111111111111,\"#46039f\"],[0.2222222222222222,\"#7201a8\"],[0.3333333333333333,\"#9c179e\"],[0.4444444444444444,\"#bd3786\"],[0.5555555555555556,\"#d8576b\"],[0.6666666666666666,\"#ed7953\"],[0.7777777777777778,\"#fb9f3a\"],[0.8888888888888888,\"#fdca26\"],[1.0,\"#f0f921\"]],\"type\":\"contour\"}],\"contourcarpet\":[{\"colorbar\":{\"outlinewidth\":0,\"ticks\":\"\"},\"type\":\"contourcarpet\"}],\"heatmap\":[{\"colorbar\":{\"outlinewidth\":0,\"ticks\":\"\"},\"colorscale\":[[0.0,\"#0d0887\"],[0.1111111111111111,\"#46039f\"],[0.2222222222222222,\"#7201a8\"],[0.3333333333333333,\"#9c179e\"],[0.4444444444444444,\"#bd3786\"],[0.5555555555555556,\"#d8576b\"],[0.6666666666666666,\"#ed7953\"],[0.7777777777777778,\"#fb9f3a\"],[0.8888888888888888,\"#fdca26\"],[1.0,\"#f0f921\"]],\"type\":\"heatmap\"}],\"heatmapgl\":[{\"colorbar\":{\"outlinewidth\":0,\"ticks\":\"\"},\"colorscale\":[[0.0,\"#0d0887\"],[0.1111111111111111,\"#46039f\"],[0.2222222222222222,\"#7201a8\"],[0.3333333333333333,\"#9c179e\"],[0.4444444444444444,\"#bd3786\"],[0.5555555555555556,\"#d8576b\"],[0.6666666666666666,\"#ed7953\"],[0.7777777777777778,\"#fb9f3a\"],[0.8888888888888888,\"#fdca26\"],[1.0,\"#f0f921\"]],\"type\":\"heatmapgl\"}],\"histogram\":[{\"marker\":{\"pattern\":{\"fillmode\":\"overlay\",\"size\":10,\"solidity\":0.2}},\"type\":\"histogram\"}],\"histogram2d\":[{\"colorbar\":{\"outlinewidth\":0,\"ticks\":\"\"},\"colorscale\":[[0.0,\"#0d0887\"],[0.1111111111111111,\"#46039f\"],[0.2222222222222222,\"#7201a8\"],[0.3333333333333333,\"#9c179e\"],[0.4444444444444444,\"#bd3786\"],[0.5555555555555556,\"#d8576b\"],[0.6666666666666666,\"#ed7953\"],[0.7777777777777778,\"#fb9f3a\"],[0.8888888888888888,\"#fdca26\"],[1.0,\"#f0f921\"]],\"type\":\"histogram2d\"}],\"histogram2dcontour\":[{\"colorbar\":{\"outlinewidth\":0,\"ticks\":\"\"},\"colorscale\":[[0.0,\"#0d0887\"],[0.1111111111111111,\"#46039f\"],[0.2222222222222222,\"#7201a8\"],[0.3333333333333333,\"#9c179e\"],[0.4444444444444444,\"#bd3786\"],[0.5555555555555556,\"#d8576b\"],[0.6666666666666666,\"#ed7953\"],[0.7777777777777778,\"#fb9f3a\"],[0.8888888888888888,\"#fdca26\"],[1.0,\"#f0f921\"]],\"type\":\"histogram2dcontour\"}],\"mesh3d\":[{\"colorbar\":{\"outlinewidth\":0,\"ticks\":\"\"},\"type\":\"mesh3d\"}],\"parcoords\":[{\"line\":{\"colorbar\":{\"outlinewidth\":0,\"ticks\":\"\"}},\"type\":\"parcoords\"}],\"pie\":[{\"automargin\":true,\"type\":\"pie\"}],\"scatter\":[{\"marker\":{\"colorbar\":{\"outlinewidth\":0,\"ticks\":\"\"}},\"type\":\"scatter\"}],\"scatter3d\":[{\"line\":{\"colorbar\":{\"outlinewidth\":0,\"ticks\":\"\"}},\"marker\":{\"colorbar\":{\"outlinewidth\":0,\"ticks\":\"\"}},\"type\":\"scatter3d\"}],\"scattercarpet\":[{\"marker\":{\"colorbar\":{\"outlinewidth\":0,\"ticks\":\"\"}},\"type\":\"scattercarpet\"}],\"scattergeo\":[{\"marker\":{\"colorbar\":{\"outlinewidth\":0,\"ticks\":\"\"}},\"type\":\"scattergeo\"}],\"scattergl\":[{\"marker\":{\"colorbar\":{\"outlinewidth\":0,\"ticks\":\"\"}},\"type\":\"scattergl\"}],\"scattermapbox\":[{\"marker\":{\"colorbar\":{\"outlinewidth\":0,\"ticks\":\"\"}},\"type\":\"scattermapbox\"}],\"scatterpolar\":[{\"marker\":{\"colorbar\":{\"outlinewidth\":0,\"ticks\":\"\"}},\"type\":\"scatterpolar\"}],\"scatterpolargl\":[{\"marker\":{\"colorbar\":{\"outlinewidth\":0,\"ticks\":\"\"}},\"type\":\"scatterpolargl\"}],\"scatterternary\":[{\"marker\":{\"colorbar\":{\"outlinewidth\":0,\"ticks\":\"\"}},\"type\":\"scatterternary\"}],\"surface\":[{\"colorbar\":{\"outlinewidth\":0,\"ticks\":\"\"},\"colorscale\":[[0.0,\"#0d0887\"],[0.1111111111111111,\"#46039f\"],[0.2222222222222222,\"#7201a8\"],[0.3333333333333333,\"#9c179e\"],[0.4444444444444444,\"#bd3786\"],[0.5555555555555556,\"#d8576b\"],[0.6666666666666666,\"#ed7953\"],[0.7777777777777778,\"#fb9f3a\"],[0.8888888888888888,\"#fdca26\"],[1.0,\"#f0f921\"]],\"type\":\"surface\"}],\"table\":[{\"cells\":{\"fill\":{\"color\":\"#EBF0F8\"},\"line\":{\"color\":\"white\"}},\"header\":{\"fill\":{\"color\":\"#C8D4E3\"},\"line\":{\"color\":\"white\"}},\"type\":\"table\"}]},\"layout\":{\"annotationdefaults\":{\"arrowcolor\":\"#2a3f5f\",\"arrowhead\":0,\"arrowwidth\":1},\"autotypenumbers\":\"strict\",\"coloraxis\":{\"colorbar\":{\"outlinewidth\":0,\"ticks\":\"\"}},\"colorscale\":{\"diverging\":[[0,\"#8e0152\"],[0.1,\"#c51b7d\"],[0.2,\"#de77ae\"],[0.3,\"#f1b6da\"],[0.4,\"#fde0ef\"],[0.5,\"#f7f7f7\"],[0.6,\"#e6f5d0\"],[0.7,\"#b8e186\"],[0.8,\"#7fbc41\"],[0.9,\"#4d9221\"],[1,\"#276419\"]],\"sequential\":[[0.0,\"#0d0887\"],[0.1111111111111111,\"#46039f\"],[0.2222222222222222,\"#7201a8\"],[0.3333333333333333,\"#9c179e\"],[0.4444444444444444,\"#bd3786\"],[0.5555555555555556,\"#d8576b\"],[0.6666666666666666,\"#ed7953\"],[0.7777777777777778,\"#fb9f3a\"],[0.8888888888888888,\"#fdca26\"],[1.0,\"#f0f921\"]],\"sequentialminus\":[[0.0,\"#0d0887\"],[0.1111111111111111,\"#46039f\"],[0.2222222222222222,\"#7201a8\"],[0.3333333333333333,\"#9c179e\"],[0.4444444444444444,\"#bd3786\"],[0.5555555555555556,\"#d8576b\"],[0.6666666666666666,\"#ed7953\"],[0.7777777777777778,\"#fb9f3a\"],[0.8888888888888888,\"#fdca26\"],[1.0,\"#f0f921\"]]},\"colorway\":[\"#636efa\",\"#EF553B\",\"#00cc96\",\"#ab63fa\",\"#FFA15A\",\"#19d3f3\",\"#FF6692\",\"#B6E880\",\"#FF97FF\",\"#FECB52\"],\"font\":{\"color\":\"#2a3f5f\"},\"geo\":{\"bgcolor\":\"white\",\"lakecolor\":\"white\",\"landcolor\":\"#E5ECF6\",\"showlakes\":true,\"showland\":true,\"subunitcolor\":\"white\"},\"hoverlabel\":{\"align\":\"left\"},\"hovermode\":\"closest\",\"mapbox\":{\"style\":\"light\"},\"paper_bgcolor\":\"white\",\"plot_bgcolor\":\"#E5ECF6\",\"polar\":{\"angularaxis\":{\"gridcolor\":\"white\",\"linecolor\":\"white\",\"ticks\":\"\"},\"bgcolor\":\"#E5ECF6\",\"radialaxis\":{\"gridcolor\":\"white\",\"linecolor\":\"white\",\"ticks\":\"\"}},\"scene\":{\"xaxis\":{\"backgroundcolor\":\"#E5ECF6\",\"gridcolor\":\"white\",\"gridwidth\":2,\"linecolor\":\"white\",\"showbackground\":true,\"ticks\":\"\",\"zerolinecolor\":\"white\"},\"yaxis\":{\"backgroundcolor\":\"#E5ECF6\",\"gridcolor\":\"white\",\"gridwidth\":2,\"linecolor\":\"white\",\"showbackground\":true,\"ticks\":\"\",\"zerolinecolor\":\"white\"},\"zaxis\":{\"backgroundcolor\":\"#E5ECF6\",\"gridcolor\":\"white\",\"gridwidth\":2,\"linecolor\":\"white\",\"showbackground\":true,\"ticks\":\"\",\"zerolinecolor\":\"white\"}},\"shapedefaults\":{\"line\":{\"color\":\"#2a3f5f\"}},\"ternary\":{\"aaxis\":{\"gridcolor\":\"white\",\"linecolor\":\"white\",\"ticks\":\"\"},\"baxis\":{\"gridcolor\":\"white\",\"linecolor\":\"white\",\"ticks\":\"\"},\"bgcolor\":\"#E5ECF6\",\"caxis\":{\"gridcolor\":\"white\",\"linecolor\":\"white\",\"ticks\":\"\"}},\"title\":{\"x\":0.05},\"xaxis\":{\"automargin\":true,\"gridcolor\":\"white\",\"linecolor\":\"white\",\"ticks\":\"\",\"title\":{\"standoff\":15},\"zerolinecolor\":\"white\",\"zerolinewidth\":2},\"yaxis\":{\"automargin\":true,\"gridcolor\":\"white\",\"linecolor\":\"white\",\"ticks\":\"\",\"title\":{\"standoff\":15},\"zerolinecolor\":\"white\",\"zerolinewidth\":2}}},\"xaxis\":{\"anchor\":\"y\",\"domain\":[0.0,1.0],\"title\":{\"text\":\"x\"}},\"yaxis\":{\"anchor\":\"x\",\"domain\":[0.0,1.0],\"title\":{\"text\":\"y\"}}},                        {\"responsive\": true}                    ).then(function(){\n",
       "                            \n",
       "var gd = document.getElementById('a5d5c9c6-6c8e-4b63-8eff-198433271748');\n",
       "var x = new MutationObserver(function (mutations, observer) {{\n",
       "        var display = window.getComputedStyle(gd).display;\n",
       "        if (!display || display === 'none') {{\n",
       "            console.log([gd, 'removed!']);\n",
       "            Plotly.purge(gd);\n",
       "            observer.disconnect();\n",
       "        }}\n",
       "}});\n",
       "\n",
       "// Listen for the removal of the full notebook cells\n",
       "var notebookContainer = gd.closest('#notebook-container');\n",
       "if (notebookContainer) {{\n",
       "    x.observe(notebookContainer, {childList: true});\n",
       "}}\n",
       "\n",
       "// Listen for the clearing of the current output cell\n",
       "var outputEl = gd.closest('.output');\n",
       "if (outputEl) {{\n",
       "    x.observe(outputEl, {childList: true});\n",
       "}}\n",
       "\n",
       "                        })                };                });            </script>        </div>"
      ]
     },
     "metadata": {},
     "output_type": "display_data"
    }
   ],
   "source": [
    "freq_ivs_all_dia=freq_ivs_og[0:40]\n",
    "\n",
    "dia_para_microhertz=1000000/(3600*24)\n",
    "\n",
    "erro_freq=np.append(resultado_pw_only_combination['e_freq'],resultado_pw_no_combination['e_freq'])\n",
    "erro_freq=dia_para_microhertz*np.argsort(freq_ivs_all_dia)\n",
    "# freq_ivs_all_dia=np.sort(freq_ivs_all_dia[freq_ivs_all_dia<50])\n",
    "\n",
    "freq_ivs_all=dia_para_microhertz*np.sort(freq_ivs_all_dia)\n",
    "\n",
    "delta_k_nu_freq_ivs_all=np.zeros(len(freq_ivs_all)-1)\n",
    "kmedio_freq_ivs_all=np.zeros(len(freq_ivs_all)-1)\n",
    "indice=np.zeros(len(freq_ivs_all)-1)\n",
    "for i in range(1, len(freq_ivs_all)):\n",
    "    indice[i-1]=i-1\n",
    "    delta_k_nu_freq_ivs_all[i-1]=freq_ivs_all[i]-freq_ivs_all[i-1]\n",
    "    kmedio_freq_ivs_all[i-1]=(freq_ivs_all[i]+freq_ivs_all[i-1])/2.0\n",
    "sqr_delta_k_all=np.sqrt(delta_k_nu_freq_ivs_all)\n",
    "\n",
    "\n",
    "b=-0.56\n",
    "a=0.088\n",
    "x_est = np.linspace(0,25,100)\n",
    "y_est = a*x_est+b\n",
    "fig = px.scatter(x=kmedio_freq_ivs_all, y=sqr_delta_k_all,hover_data=[indice])\n",
    "# fig.update_xaxes(range=[5,25])\n",
    "# fig.update_yaxes(range=[-0.2, 1.4])\n",
    "fig.show()"
   ]
  },
  {
   "cell_type": "code",
   "execution_count": 195,
   "id": "f610b1f3",
   "metadata": {},
   "outputs": [],
   "source": [
    "m1_loca=[0,40]\n",
    "#m1_loca=[0,10]\n",
    "# m2_loca=[65,-1]\n"
   ]
  },
  {
   "cell_type": "code",
   "execution_count": 197,
   "id": "52e14283",
   "metadata": {},
   "outputs": [],
   "source": [
    "base=[0,2,3,4,10,17,18,20]\n",
    "#base=[22,25,28,32]\n",
    "base_multi=3\n",
    "# base=[13,14,16,18]\n",
    "kmedio_l1=kmedio_freq_ivs_all[np.array(base)]\n",
    "sqr_delta_k_l1=sqr_delta_k_all[np.array(base)]\n",
    "sqr_delta_k_l1og=np.copy(sqr_delta_k_l1)\n",
    "\n",
    "\n",
    "kmedio_mi=kmedio_freq_ivs_all[m1_loca[0]:m1_loca[1]]\n",
    "sqr_delta_k_mi=sqr_delta_k_all[m1_loca[0]:m1_loca[1]]"
   ]
  },
  {
   "cell_type": "code",
   "execution_count": 198,
   "id": "b633f0db",
   "metadata": {},
   "outputs": [
    {
     "data": {
      "text/plain": [
       "array([ 1.48917077,  2.35878012,  3.06260382,  3.39828351, 17.86328246,\n",
       "       41.76187132, 46.9877442 , 57.63830385])"
      ]
     },
     "execution_count": 198,
     "metadata": {},
     "output_type": "execute_result"
    }
   ],
   "source": [
    "kmedio_l1"
   ]
  },
  {
   "cell_type": "code",
   "execution_count": 199,
   "id": "45fdc837",
   "metadata": {},
   "outputs": [
    {
     "name": "stdout",
     "output_type": "stream",
     "text": [
      "0.659644588948581\n"
     ]
    },
    {
     "data": {
      "text/plain": [
       "(0.0, 1.3)"
      ]
     },
     "execution_count": 199,
     "metadata": {},
     "output_type": "execute_result"
    },
    {
     "data": {
      "image/png": "[encoded data removed]",
      "text/plain": [
       "<Figure size 432x216 with 1 Axes>"
      ]
     },
     "metadata": {
      "needs_background": "light"
     },
     "output_type": "display_data"
    }
   ],
   "source": [
    "\n",
    "# fit a linear curve an estimate its y-values and their error.\n",
    "sqr_delta_k_l1=sqr_delta_k_l1og/np.sqrt(base_multi)\n",
    "a, b = np.polyfit(kmedio_l1, sqr_delta_k_l1, deg=1)\n",
    "\n",
    "a_inicial=np.copy(a)\n",
    "b_inicial=np.copy(b)\n",
    "\n",
    "x=kmedio_l1\n",
    "\n",
    "x_est = np.linspace(0,35,100)\n",
    "y_est0 = a*x_est+b\n",
    "\n",
    "fig, ax = plt.subplots(figsize=(6,3))\n",
    "ax.plot(x_est, y_est0, '-')\n",
    "ax.plot(x_est, y_est0*np.sqrt(2), '-',alpha=0.3)\n",
    "ax.plot(x_est, y_est0*np.sqrt(3), '-',alpha=0.3)\n",
    "ax.plot(x_est, y_est0*np.sqrt(4), '-',alpha=0.3)\n",
    "ax.plot(x_est, y_est0*np.sqrt(5), '-',alpha=0.3)\n",
    "ax.plot(kmedio_mi, sqr_delta_k_mi, 'o', color='tab:brown',markersize=2.1)\n",
    "y_est = a*x+b\n",
    "quantos_sigmas=3\n",
    "y_err=quantos_sigmas*median_absolute_error(sqr_delta_k_l1, y_est)\n",
    "print(y_err)\n",
    "y_err=0.032\n",
    "\n",
    "ax.fill_between(x_est, y_est0 - y_err, y_est0 + y_err, alpha=0.2)\n",
    "ax.fill_between(x_est, (y_est0*np.sqrt(2) - y_err), (y_est0*np.sqrt(2) + y_err), alpha=0.2)\n",
    "ax.fill_between(x_est, (y_est0*np.sqrt(3) - y_err),( y_est0*np.sqrt(3) + y_err), alpha=0.2)\n",
    "ax.fill_between(x_est, (y_est0*np.sqrt(4) - y_err), (y_est0*np.sqrt(4) + y_err), alpha=0.2)\n",
    "ax.fill_between(x_est, (y_est0*np.sqrt(5) - y_err), (y_est0*np.sqrt(5) + y_err), alpha=0.2)\n",
    "ax.fill_between(x_est, (y_est0*np.sqrt(6) - y_err), (y_est0*np.sqrt(6) + y_err), alpha=0.2)\n",
    "ax.fill_between(x_est, (y_est0*np.sqrt(7) - y_err), (y_est0*np.sqrt(7) + y_err), alpha=0.2)\n",
    "\n",
    "ax.set_xlim(0,25)\n",
    "ax.set_ylim(0,1.3)"
   ]
  },
  {
   "cell_type": "code",
   "execution_count": 200,
   "id": "aa644112",
   "metadata": {},
   "outputs": [],
   "source": [
    "kmedio_transladado=np.copy(kmedio_mi)\n",
    "sqr_delta_k_transladado=np.copy(sqr_delta_k_mi)\n",
    "delta_n=[1,2,3,4,5,6,7,8]\n",
    "# i=0\n",
    "for delta_N in delta_n:\n",
    "#     i=i+1\n",
    "    a_i=a*np.sqrt(delta_N)\n",
    "    b_i=np.copy(b)*np.sqrt(delta_N)\n",
    "    xp=np.copy(kmedio_transladado)\n",
    "    yp=np.copy(sqr_delta_k_transladado)\n",
    "    Distance = (np.absolute(a_i*xp - yp + b_i)) / (np.sqrt( a_i*a_i + 1))\n",
    "    y_erro_i=(1-0.1*(delta_N-1))*y_err\n",
    "    sqr_delta_k_transladado[np.where(Distance<y_erro_i)]=sqr_delta_k_transladado[np.where(Distance<y_erro_i)]/np.sqrt(delta_N)\n",
    "xp=np.copy(kmedio_transladado)\n",
    "yp=np.copy(sqr_delta_k_transladado)    \n",
    "Distance_reta0 = (np.absolute(a*xp - yp + b)) / (np.sqrt( a*a + 1))\n",
    "kmedio_l2=kmedio_transladado[np.where(Distance_reta0<y_err)]\n",
    "sqr_delta_k_l2=sqr_delta_k_transladado[np.where(Distance_reta0<y_err)]\n",
    "pontos_reta=np.where(Distance_reta0<y_err)\n",
    "\n",
    "a0, b0 = np.polyfit(kmedio_l2, sqr_delta_k_l2, deg=1)"
   ]
  },
  {
   "cell_type": "code",
   "execution_count": 202,
   "id": "a1cb1d7a",
   "metadata": {},
   "outputs": [
    {
     "name": "stdout",
     "output_type": "stream",
     "text": [
      "inter  0 , nu_rot =  -11.228762883908665  , P0=  0.5117102919034451\n",
      "inter  1 , nu_rot =  nan  , P0=  nan\n",
      "inter  2 , nu_rot =  nan  , P0=  nan\n",
      "inter  3 , nu_rot =  nan  , P0=  nan\n"
     ]
    },
    {
     "name": "stderr",
     "output_type": "stream",
     "text": [
      "/home/user/jupyter_projects/jupyter_projects/lib/python3.7/site-packages/ipykernel_launcher.py:28: RuntimeWarning:\n",
      "\n",
      "invalid value encountered in sqrt\n",
      "\n"
     ]
    }
   ],
   "source": [
    "f_i=1\n",
    "for i in range(4):\n",
    "#for i in range(7):\n",
    "    m=1\n",
    "    x = kmedio_l2/m\n",
    "#     print(len(x))\n",
    "    y = f_i*(sqr_delta_k_l2/np.sqrt(m))\n",
    "\n",
    "    # fit a linear curve an estimate its y-values and their error.\n",
    "    a, b = np.polyfit(x, y, deg=1)\n",
    "    delta_k_nu=sqr_delta_k_mi*sqr_delta_k_mi\n",
    "    kmedio=kmedio_mi\n",
    "    nu_rot=-b/a\n",
    "    P0=a*a\n",
    "    print('inter ',i,', nu_rot = ',nu_rot,' , P0= ', 1000*P0)\n",
    "\n",
    "\n",
    "    nu_co=freq_ivs_all[m1_loca[0]:m1_loca[1]+1]-m*nu_rot\n",
    "\n",
    "    s=2*nu_rot/nu_co\n",
    "\n",
    "    f_i=np.empty(len(nu_co)-1)\n",
    "    for k in range(len(nu_co)-1):\n",
    "#         deltak_sqrLmm_over_nu_co=((m+m*lambda_mm_s_interpo(s[k+1]))/nu_co[k+1])-((m+m*lambda_mm_s_interpo(s[k]))/nu_co[k])\n",
    "#         f_k=(kmedio-nu_rot)*np.sqrt(-1*deltak_sqrLmm_over_nu_co/(delta_k_nu[k]*m))\n",
    "#         f_i[k]=f_k\n",
    "        deltak_sqrLmm_over_nu_co=((m+m*lambda_mm_s_interpo(s[k+1]))/nu_co[k+1])-((m+m*lambda_mm_s_interpo(s[k]))/nu_co[k])\n",
    "        f_k=(kmedio[k]-m*nu_rot)*np.sqrt(-1*deltak_sqrLmm_over_nu_co/(delta_k_nu[k]*m))\n",
    "#         print(-1*deltak_sqrLmm_over_nu_co/(delta_k_nu[k]*m))\n",
    "\n",
    "        f_i[k]=f_k\n",
    "    \n",
    "       \n",
    "    f_i=f_i[pontos_reta]\n",
    "#     print(f_i) "
   ]
  },
  {
   "cell_type": "code",
   "execution_count": 203,
   "id": "0032b885",
   "metadata": {},
   "outputs": [
    {
     "name": "stderr",
     "output_type": "stream",
     "text": [
      "/home/user/jupyter_projects/jupyter_projects/lib/python3.7/site-packages/ipykernel_launcher.py:18: DeprecationWarning:\n",
      "\n",
      "`np.str` is a deprecated alias for the builtin `str`. To silence this warning, use `str` by itself. Doing this will not modify any behavior and is safe. If you specifically wanted the numpy scalar type, use `np.str_` here.\n",
      "Deprecated in NumPy 1.20; for more details and guidance: https://numpy.org/devdocs/release/1.20.0-notes.html#deprecations\n",
      "\n",
      "/home/user/jupyter_projects/jupyter_projects/lib/python3.7/site-packages/ipykernel_launcher.py:18: DeprecationWarning:\n",
      "\n",
      "`np.str` is a deprecated alias for the builtin `str`. To silence this warning, use `str` by itself. Doing this will not modify any behavior and is safe. If you specifically wanted the numpy scalar type, use `np.str_` here.\n",
      "Deprecated in NumPy 1.20; for more details and guidance: https://numpy.org/devdocs/release/1.20.0-notes.html#deprecations\n",
      "\n",
      "/home/user/jupyter_projects/jupyter_projects/lib/python3.7/site-packages/ipykernel_launcher.py:18: DeprecationWarning:\n",
      "\n",
      "`np.str` is a deprecated alias for the builtin `str`. To silence this warning, use `str` by itself. Doing this will not modify any behavior and is safe. If you specifically wanted the numpy scalar type, use `np.str_` here.\n",
      "Deprecated in NumPy 1.20; for more details and guidance: https://numpy.org/devdocs/release/1.20.0-notes.html#deprecations\n",
      "\n",
      "/home/user/jupyter_projects/jupyter_projects/lib/python3.7/site-packages/ipykernel_launcher.py:60: DeprecationWarning:\n",
      "\n",
      "`np.str` is a deprecated alias for the builtin `str`. To silence this warning, use `str` by itself. Doing this will not modify any behavior and is safe. If you specifically wanted the numpy scalar type, use `np.str_` here.\n",
      "Deprecated in NumPy 1.20; for more details and guidance: https://numpy.org/devdocs/release/1.20.0-notes.html#deprecations\n",
      "\n"
     ]
    },
    {
     "data": {
      "image/png": "[encoded data removed]",
      "text/plain": [
       "<Figure size 504x360 with 1 Axes>"
      ]
     },
     "metadata": {
      "needs_background": "light"
     },
     "output_type": "display_data"
    }
   ],
   "source": [
    "import math\n",
    "\n",
    "# fit a linear curve an estimate its y-values and their error.\n",
    "a1, b1 = np.polyfit(kmedio_l2, sqr_delta_k_l2, deg=1)\n",
    "\n",
    "x=np.copy(kmedio_l2)\n",
    "\n",
    "x_est = np.linspace(0,25,100)\n",
    "y_est0 = a_inicial*x_est+b_inicial\n",
    "y_primeiro_chute = a_inicial*x_est+b_inicial\n",
    "\n",
    "\n",
    "fig, ax = plt.subplots(figsize=(7,5))\n",
    "# ax.plot(x_est, y_est0, '-')\n",
    "delta_n=[1,2,4]\n",
    "#delta_n=[1,2,3,4,5,6,7,8]\n",
    "for delta_N in delta_n:\n",
    "    ax.plot(x_est, y_est0*np.sqrt(delta_N), '-',alpha=0.3, label=r'$\\times ($'+np.str(delta_N)+r'$)^{{1}/{2}}$')\n",
    "    #ax.plot(x_est, y_est0*np.sqrt(delta_N), '-',alpha=0.3, label= r'$\\times $'+np.str(delta_N))\n",
    "\n",
    "for i in range(len(kmedio_mi)):\n",
    "    ax.arrow(kmedio_mi[i], sqr_delta_k_mi[i], (kmedio_mi-kmedio_mi)[i]\n",
    "             , (sqr_delta_k_transladado-sqr_delta_k_mi)[i],width=0.01,head_width=0.05,lw=0.1\n",
    "             ,head_length=0.05,length_includes_head=True,color='orange')\n",
    "    \n",
    "ax.plot(kmedio_mi, sqr_delta_k_mi, 'o', color='black',markersize=2.1,fillstyle='none',alpha=0.9)\n",
    "ax.plot(kmedio_mi[pontos_reta], sqr_delta_k_mi[pontos_reta], 'o', color='brown',markersize=2.5)\n",
    "ax.plot(kmedio_mi[pontos_reta], sqr_delta_k_transladado[pontos_reta], 'o', color='orangered',markersize=2.5)\n",
    "\n",
    "\n",
    "y_est = a1*x+b1\n",
    "\n",
    "y_inicial = a1*x_est+b1\n",
    "y_final = a*x_est+b\n",
    "\n",
    "# ax.plot(x_est, y_inicial, '-',alpha=0.3, label='x'+np.str(delta_N))\n",
    "# print(a,a1,a0,b,b1,b0)\n",
    "# y_err=quantos_sigmas*median_absolute_error(sqr_delta_k_l2, y_est)\n",
    "# delta_n=[1,2,3,4,5,6,7,8]\n",
    "i=0\n",
    "for delta_N in delta_n:\n",
    "    i=i+1\n",
    "    y_erro_i=(1-0.1*(delta_N-1))*y_err\n",
    "    ax.fill_between(x_est, (y_est0*np.sqrt(delta_N) - y_erro_i), (y_est0*np.sqrt(delta_N) + y_erro_i), alpha=0.2)\n",
    "ax.plot(x_est, y_final, '-.', label=r'$\\mathrm{Final \\ iteration}$',color='purple',linewidth=0.5)\n",
    "ax.fill_between(x_est, (0*y_est0), (y_est0 - 6*y_erro_i), alpha=1.0,color='w',zorder=2.3)\n",
    "ax.fill_between(x_est, (3*y_est0+1*y_erro_i), (200*y_est0 + 6*y_erro_i), alpha=1.0,color='w',zorder=2.3)\n",
    "\n",
    "ax.set_xlim(0,25)\n",
    "ax.set_ylim(0.2,1.2)\n",
    "ax.set_title(r'$\\mathrm{EPIC} \\ $' + name[0], fontsize=13.5)\n",
    "ax.set_xlabel(r'$v_{k+\\frac{1}{2}} / m$  $[\\mu \\mathrm{Hz}]$', fontsize=14.5)\n",
    "ax.set_ylabel(r'$\\sqrt{\\Delta_{k} v /\\left(m \\Delta_{k} n\\right)}$  $\\left[(\\mu \\mathrm{Hz})^{\\frac{1}{2}}\\right]$', fontsize=14.5)\n",
    "#ax.legend(loc='upper right')\n",
    "ax.legend(loc='lower right')\n",
    "# change the fontsize\n",
    "ax.tick_params(axis='x', labelsize=13)\n",
    "ax.tick_params(axis='y', labelsize=13)\n",
    "#plt.savefig(np.str(name[0]+'.png'),format='png',dpi=500)\n",
    "plt.savefig(np.str(name[0]+'.pdf'),format='pdf')"
   ]
  },
  {
   "cell_type": "code",
   "execution_count": null,
   "id": "592a3e1a",
   "metadata": {},
   "outputs": [],
   "source": []
  }
 ],
 "metadata": {
  "kernelspec": {
   "display_name": "Python 3 (ipykernel)",
   "language": "python",
   "name": "python3"
  },
  "language_info": {
   "codemirror_mode": {
    "name": "ipython",
    "version": 3
   },
   "file_extension": ".py",
   "mimetype": "text/x-python",
   "name": "python",
   "nbconvert_exporter": "python",
   "pygments_lexer": "ipython3",
   "version": "3.7.3"
  }
 },
 "nbformat": 4,
 "nbformat_minor": 5
}
